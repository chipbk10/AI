{
 "cells": [
  {
   "cell_type": "markdown",
   "metadata": {},
   "source": [
    "# Sources\n",
    "- [Multinomial Logistic Regression for beginners](https://www.kaggle.com/code/saurabhbagchi/multinomial-logistic-regression-for-beginners)\n",
    "- Very good explanation: [Introduction to MultiNomial Logistic Regression (Outcome more than two class) & Solution Approach](https://www.youtube.com/watch?v=Mi992wr6zKc&ab_channel=GopalPrasadMalakar)"
   ]
  },
  {
   "cell_type": "markdown",
   "metadata": {},
   "source": [
    "# Explanations\n",
    "- Multinomial logistic regression is the generalization of binary logistic regression algorithm.\n",
    "- Binary logistic regression uses Sigmoid Function\n",
    "- Multinomial uses Softmax Function\n",
    "- Multimonial is N-1 binary logistic regression models\n"
   ]
  },
  {
   "cell_type": "code",
   "execution_count": null,
   "metadata": {},
   "outputs": [],
   "source": [
    "# Example @Todo"
   ]
  }
 ],
 "metadata": {
  "language_info": {
   "name": "python"
  }
 },
 "nbformat": 4,
 "nbformat_minor": 2
}
