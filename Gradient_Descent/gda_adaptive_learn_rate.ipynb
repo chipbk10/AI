{
 "cells": [
  {
   "cell_type": "markdown",
   "metadata": {},
   "source": [
    "[1515. Best Position for a Service Centre](https://leetcode.com/problems/best-position-for-a-service-centre/description/)\n",
    "[Solution: adaptive learn rate](https://leetcode.com/problems/best-position-for-a-service-centre/solutions/842804/python-gradient-descent-with-momentum)"
   ]
  },
  {
   "cell_type": "code",
   "execution_count": 7,
   "metadata": {},
   "outputs": [],
   "source": [
    "import math\n",
    "\n",
    "class Solution:\n",
    "    def getMinDistSum(self, positions: list[list[int]]) -> float:\n",
    "        def dist(x, y):\n",
    "            return sum(math.sqrt((x-i)**2 + (y-j)**2) for i, j in positions)\n",
    "        \n",
    "        def pdx(x, y):  # partial derivative with respect to x\n",
    "            return sum(((x-i) / math.sqrt((x-i)**2 + (y-j)**2) if x-i else 0) for i, j in positions)\n",
    "        \n",
    "        def pdy(x, y):  # partial derivative with respect to y\n",
    "            return sum(((y-j) / math.sqrt((x-i)**2 + (y-j)**2) if y-j else 0) for i, j in positions)\n",
    "        \n",
    "        x = sum(p[0] for p in positions) / len(positions)\n",
    "        y = sum(p[1] for p in positions) / len(positions)\n",
    "        lr = 1          # initial learning rate\n",
    "        momentum = 0.8  # reduces oscillation and therefore accelerates convergence\n",
    "        dx = 0\n",
    "        dy = 0\n",
    "        while lr > 1e-8:\n",
    "            dx = pdx(x, y) + momentum * dx\n",
    "            dy = pdy(x, y) + momentum * dy\n",
    "            x -= lr * dx\n",
    "            y -= lr * dy\n",
    "            lr *= 0.99\n",
    "            if not (dx or dy):\n",
    "                lr /= 2\n",
    "        return dist(x, y)"
   ]
  },
  {
   "cell_type": "code",
   "execution_count": 8,
   "metadata": {},
   "outputs": [
    {
     "name": "stdout",
     "output_type": "stream",
     "text": [
      "2.7320508075688776\n"
     ]
    }
   ],
   "source": [
    "# MAIN PROGRAM\n",
    "\n",
    "solution = Solution()\n",
    "distance = solution.getMinDistSum([[1,1],[0,0],[2,0]])\n",
    "print(distance)"
   ]
  }
 ],
 "metadata": {
  "kernelspec": {
   "display_name": ".venv",
   "language": "python",
   "name": "python3"
  },
  "language_info": {
   "codemirror_mode": {
    "name": "ipython",
    "version": 3
   },
   "file_extension": ".py",
   "mimetype": "text/x-python",
   "name": "python",
   "nbconvert_exporter": "python",
   "pygments_lexer": "ipython3",
   "version": "3.12.1"
  }
 },
 "nbformat": 4,
 "nbformat_minor": 2
}
